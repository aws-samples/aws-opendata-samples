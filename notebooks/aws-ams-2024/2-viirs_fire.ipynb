{
 "cells": [
  {
   "cell_type": "markdown",
   "id": "ed00103c",
   "metadata": {
    "ExecuteTime": {
     "end_time": "2022-12-05T22:11:06.420655Z",
     "start_time": "2022-12-05T22:11:06.406693Z"
    }
   },
   "source": [
    "# Tutorial to Work with a JPSS (Polar-Orbiting) VIIRS Level 2 (Granule) Fires Data File\n",
    "\n",
    "This tutorial was written in December 2022 by Dr. Amy Huff, IMSG at NOAA/NESDIS/STAR (amy.huff@noaa.gov) and Dr. Rebekah Esmaili, STC at NOAA/JPSS (rebekah.esmaili@noaa.gov). It demonstrates how to work with a VIIRS Level 2 (granule) netCDF4 file, including how to handle a netCDF4 file that organizes data variables into **groups** and what aspects to consider for making a beautiful image of point data.\n",
    "\n",
    "The main steps are:\n",
    "- Open the file\n",
    "- Read the global file metadata\n",
    "    - Recognize when data variables are organized into groups\n",
    "    - Find names of groups, open a group & read the metadata for variables in the group\n",
    "- Visualize point satellite data on a map with an image tile background\n",
    "- Format settings to make a beautiful image:\n",
    "    - Data markers\n",
    "    - Figure title\n",
    "- Save image file"
   ]
  },
  {
   "cell_type": "markdown",
   "id": "c3d3baca",
   "metadata": {},
   "source": [
    "## Topic 1: Getting Started with Jupyter Notebook"
   ]
  },
  {
   "cell_type": "markdown",
   "id": "6eb38465",
   "metadata": {
    "ExecuteTime": {
     "end_time": "2022-12-05T22:11:34.390816Z",
     "start_time": "2022-12-05T22:11:34.382798Z"
    }
   },
   "source": [
    "### Step 1.1: Import Python packages\n",
    "\n",
    "We will use five Python packages (libraries) and two Python modules in this Notebook:\n",
    "- The **xarray** library is used to work with labelled multi-dimensional arrays\n",
    "- The **netCDF4** library is used to read and write netCDF4 files\n",
    "- The **NumPy** library is used to perform array operations\n",
    "- The **Matplotlib** library is used to make plots\n",
    "- The **Cartopy** library is used to create maps\n",
    "- The **datetime** module is used to manipulate dates and times\n",
    "- The **pathlib** module is used to set filesystem paths for the user's operating system"
   ]
  },
  {
   "cell_type": "code",
   "execution_count": null,
   "id": "b47c3912",
   "metadata": {},
   "outputs": [],
   "source": [
    "%pip install xarray netCDF4 cartopy matplotlib"
   ]
  },
  {
   "cell_type": "code",
   "execution_count": null,
   "id": "f96694d5",
   "metadata": {
    "tags": []
   },
   "outputs": [],
   "source": [
    "import xarray as xr\n",
    "\n",
    "from netCDF4 import Dataset\n",
    "\n",
    "import numpy as np\n",
    "\n",
    "import matplotlib as mpl\n",
    "from matplotlib import pyplot as plt\n",
    "\n",
    "import cartopy.io.img_tiles as cimgt\n",
    "from cartopy import crs as ccrs\n",
    "\n",
    "import datetime\n",
    "\n",
    "from pathlib import Path\n",
    "\n",
    "import warnings\n",
    "warnings.filterwarnings('ignore')"
   ]
  },
  {
   "cell_type": "markdown",
   "id": "14c35a49",
   "metadata": {},
   "source": [
    "### Step 1.2: Set directory path for satellite data files\n",
    "\n",
    "We set the directory path for the satellite data files using the [pathlib module](https://docs.python.org/3/library/pathlib.html#module-pathlib), which automatically uses the correct format for the user's operating system. This helps avoid errors in situations when more than one person is using the same code file, because Windows uses back slashes in directory paths, while MacOS and Linux use forward slashes. \n",
    "\n",
    "To keep things simple for this training, we put the satellite data files we downloaded in the current working directory ```Path.cwd()```, i.e., the same Jupyter Notebook folder where this code file is located."
   ]
  },
  {
   "cell_type": "code",
   "execution_count": null,
   "id": "dd3728aa",
   "metadata": {
    "tags": []
   },
   "outputs": [],
   "source": [
    "directory_path = Path.cwd()"
   ]
  },
  {
   "cell_type": "markdown",
   "id": "21cd43fe",
   "metadata": {},
   "source": [
    "## Topic 3: Understanding the Structure & Contents of netCDF Data Files"
   ]
  },
  {
   "cell_type": "markdown",
   "id": "ca00f040",
   "metadata": {},
   "source": [
    "### Step 3.1: Open a VIIRS AF I-band satellite data file using xarray & read metadata\n",
    "\n",
    "Let's use **xarray** to open one of the VIIRS fires data files we downloaded (```file_name```). We set the full path for the data file (```file_id```) using **pathlib** syntax.\n",
    "\n",
    "We open the satellite data file using ```xr.open_dataset()``` and then print the file metadata. The contents of a satellite data file are called a \"Dataset\" in **xarray**, conventionally abbreviated as ```ds```. \n",
    "\n",
    "The global file metadata are listed under ```Attributes```.\n",
    "\n",
    "#### Identifying when groups are in the netCDF file\n",
    "\n",
    "Normally, the metadata for the satellite data in the file are  displayed under \"Data variables\". But for this file, we see that there are zero (0) \"Data variables.\"  If you encounter this situation with a netCDF4 file using **xarray** it can mean that the data variables in the file are organized into **groups**."
   ]
  },
  {
   "cell_type": "code",
   "execution_count": null,
   "id": "30397749",
   "metadata": {
    "tags": []
   },
   "outputs": [],
   "source": [
    "file_name = 'AF-Iband_v1r0_j01_s202210162118082_e202210162119327_c202210162142235.nc'\n",
    "file_id = directory_path / file_name\n",
    "\n",
    "ds = xr.open_dataset(file_id, engine='netcdf4')\n",
    "ds"
   ]
  },
  {
   "cell_type": "markdown",
   "id": "b11c9872",
   "metadata": {},
   "source": [
    "### Step 3.2: Open a VIIRS AF I-band satellite data file using netCDF4 & read metadata\n",
    "\n",
    "We can open groups in a netCDF4 file using **xarray**, but to do that, we need to know the **names** of the groups. Unfortunately, [xarray can't read the groups metadata](https://github.com/pydata/xarray/issues/4840), and thus can't display the names of the groups. This is one of the major shortcomings of using the **xarray** package. \n",
    "\n",
    "As a work-around, we have to open the satellite file using either the **netCDF4** Python package, or NASA's free **Panoply** tool. Panoply is incredibly useful for making simple plots to check the contents of satellite data files, so if you are going to be working with satellite data on a regular basis, we recommend [installing Panoply](https://www.star.nesdis.noaa.gov/atmospheric-composition-training/software_panoply_install.php) on your computer.\n",
    "\n",
    "In this tutorial, we'll use the ```Dataset()``` constructor of the **netCDF4** package to open the VIIRS AF I-band file and read the metadata. The names of the groups are listed at the very end, underneath the global file metadata."
   ]
  },
  {
   "cell_type": "code",
   "execution_count": null,
   "id": "85989e76",
   "metadata": {
    "tags": []
   },
   "outputs": [],
   "source": [
    "root_group = Dataset(file_id, groups='Fire Pixels')\n",
    "print(root_group)"
   ]
  },
  {
   "cell_type": "markdown",
   "id": "9731de03",
   "metadata": {},
   "source": [
    "### Step 3.3: Print the groups metadata using netCDF4\n",
    "\n",
    "We can see that there are three groups in this file: \"Fire Mask\", \"Fire Pixels\", and \"Metadata for OSPO Monitoring Tool\". The \"Fire Pixels\" group sounds like it's what we are looking for - let's print the group metadata to see what data variables are in the group."
   ]
  },
  {
   "cell_type": "code",
   "execution_count": null,
   "id": "9ce7cdf8",
   "metadata": {
    "tags": []
   },
   "outputs": [],
   "source": [
    "print(root_group.groups['Fire Pixels'])"
   ]
  },
  {
   "cell_type": "markdown",
   "id": "9b2e9aa2",
   "metadata": {},
   "source": [
    "### Step 3.4: Close the file opened using netCDF4\n",
    "\n",
    "Now that we know the names of the groups in the file, and we have identified that the fire variables data are in the \"Fire Pixels\" group, we should close the satellite file we opened using **netCDF4**."
   ]
  },
  {
   "cell_type": "code",
   "execution_count": null,
   "id": "d87ae0a5",
   "metadata": {
    "tags": []
   },
   "outputs": [],
   "source": [
    "root_group.close()"
   ]
  },
  {
   "cell_type": "markdown",
   "id": "847b93b5",
   "metadata": {},
   "source": [
    "### Step 3.5: Open the \"Fire Pixels\" group using xarray & read group metadata\n",
    "\n",
    "At this point, we can go back to **xarray** and open the \"Fire Pixels\" group using the ```group='Fire Pixels'``` argument, and read the metadata for the data variables.\n",
    "\n",
    "We can see the \"Data variables\" are one-dimensional arrays with \"Dimensions\" of 161 (the number of fires detected, ```nfire```).\n",
    "\n",
    "\"FP_latitude\" (fire pixel latitude) and \"FP_longitude\" (fire pixel longitude) are the variables we will focus on for this example. Click on the data repository icon for these two variables to see the values in the arrays."
   ]
  },
  {
   "cell_type": "code",
   "execution_count": null,
   "id": "4b894ae7",
   "metadata": {
    "tags": []
   },
   "outputs": [],
   "source": [
    "ds_group = xr.open_dataset(file_id, group='Fire Pixels')\n",
    "\n",
    "ds_group"
   ]
  },
  {
   "cell_type": "markdown",
   "id": "1f90615b",
   "metadata": {},
   "source": [
    "## Topic 4: Handling Data Arrays"
   ]
  },
  {
   "cell_type": "markdown",
   "id": "ce7c68ce",
   "metadata": {},
   "source": [
    "### Step 4.1: Open multiple satellite files as a single xarray dataset\n",
    "\n",
    "Many Level 2 data files from polar-orbiting satellite sensors, such as VIIRS, are subsets of the full orbital swath, e.g., VIIRS Level 2 data files are provided as [granules](https://www.star.nesdis.noaa.gov/atmospheric-composition-training/satellite_data_viirs_granules.php).\n",
    "\n",
    "We downloaded three VIIRS Level 2 Active Fires I-band files. In this tutorial, to keep things simple, we are going to visualize data from only one of these files. But a situation might arise in your work/research when you need to open multiple satellite files simultaneously and combine the data into a single dataset. Let's see how to do that using **xarray**."
   ]
  },
  {
   "cell_type": "markdown",
   "id": "0b7be8ec",
   "metadata": {},
   "source": [
    "#### Step 4.1.1: Find all VIIRS AF-Iband files in the current working directory\n",
    "\n",
    "First, we use **pathlib's** ```Path.glob(pattern)``` function to collect all of the satellite files in the current working directory that match the ```pattern``` of ```AF-Iband*```, where the asterisk (*) is a wildcard for trailing characters.\n",
    "\n",
    "We can print the file names to check that we collected them correctly. Note that appending \".name\" to a **pathlib** object extracts a string representing the final path component (e.g., ```file.name```). "
   ]
  },
  {
   "cell_type": "code",
   "execution_count": null,
   "id": "02c0fd19",
   "metadata": {
    "tags": []
   },
   "outputs": [],
   "source": [
    "files = sorted(Path.cwd().glob('AF-Iband*'))\n",
    "\n",
    "for file in files:\n",
    "    print(file.name)"
   ]
  },
  {
   "cell_type": "markdown",
   "id": "769ddece",
   "metadata": {},
   "source": [
    "#### Step 4.1.2: Open multiple files in a single dataset\n",
    "\n",
    "We can use **xarray's** ```xr.open_mfdataset()``` [function](https://docs.xarray.dev/en/stable/generated/xarray.open_mfdataset.html) to open two or more files at once into a single dataset **as long as they contain the same kind of data**. \n",
    "\n",
    "As when working with any new satellite data files, we recommend first opening and understanding a single satellite file before using the ```xr.open_mfdataset()``` function.\n",
    "\n",
    "If the satellite files do not contain explicit matching coordinates, such as the three VIIRS AF-Iband files we are working with, then you need to define the following arguments: \n",
    "\n",
    "* ```combine```: the default is by coordinates (\"by_coords\") but you can also use \"nested\" and provide a specific dimension by name\n",
    "* ```concat_dim```: the dimension name across which you want to combine the data\n",
    "\n",
    "Also, since the data variables are organized into groups this particular satellite product, we need to pass that option as an argument just like we did with ```xr.open_dataset()``` in Step 3.5.\n",
    "\n",
    "For illustrative purposes, let's make a new dataset called ```ds_2``` that combines all three of the VIIRS AF I-band files we downloaded."
   ]
  },
  {
   "cell_type": "code",
   "execution_count": null,
   "id": "99cf3d67",
   "metadata": {
    "tags": []
   },
   "outputs": [],
   "source": [
    "ds_2 = xr.open_mfdataset(files, engine='netcdf4', concat_dim='nfire', combine='nested', group='Fire Pixels')\n",
    "ds_2"
   ]
  },
  {
   "cell_type": "markdown",
   "id": "dedc7c69",
   "metadata": {},
   "source": [
    "## Topic 5: Making Composite (RGB) Images \n",
    "\n",
    "This topic is not applicable to the VIIRS AF I-band data files. We can only make RGB images from satellite data files that contain sensor band radiances or brightness temperature variables."
   ]
  },
  {
   "cell_type": "markdown",
   "id": "59245f91",
   "metadata": {},
   "source": [
    "## Topic 6: Working with Map Projections"
   ]
  },
  {
   "cell_type": "markdown",
   "id": "9b6d008a",
   "metadata": {},
   "source": [
    "### Step 6.1: Make a quick scatter plot of Fire Pixel latitude vs. longitude using xarray\n",
    "\n",
    "When you're working with a new data product, it's good practice to make a quick plot to check the distribution of data in the file. We can do this using the [plotting functions built into xarray](https://docs.xarray.dev/en/stable/user-guide/plotting.html).\n",
    "\n",
    "We use the arguments for the **xarray** scatter plot function to plot the fires as red square markers.\n",
    "\n",
    "For our map, we will be zooming in on the [Nakia Creek Fire](https://inciweb.nwcg.gov/incident-information/wapcs-nakia-creek-fire) and the [Siouxon and Sunset Fires](https://inciweb.nwcg.gov/incident-information/wagpf-siouxon-and-sunset-fires) in southern Washington state, near the border with Oregon: that is the cluster of data in the upper left side of the plot."
   ]
  },
  {
   "cell_type": "code",
   "execution_count": null,
   "id": "2ffba00c",
   "metadata": {
    "tags": []
   },
   "outputs": [],
   "source": [
    "ds_group.plot.scatter(x='FP_longitude', y='FP_latitude', color='red', marker='s')"
   ]
  },
  {
   "cell_type": "markdown",
   "id": "a6a59216",
   "metadata": {},
   "source": [
    "### Step 6.2: Add an image tile map background using Cartopy\n",
    "\n",
    "When plotting point data, like satellite fire detections, an image map background provides geographic context for the data. **Cartopy** has many built-in [image tile interfaces](https://scitools.org.uk/cartopy/docs/latest/reference/io.html#image-tiles) for adding static images and map backgrounds. I've tested many of these options, and I like the ESRI World Street Map tiles, imported using **Cartopy's** web tile retrieval interface, which shows both political and geographic map features.\n",
    "\n",
    "Let's generate the ESRI World Street Map background for the region near the Washington/Oregon border where the Nakia Creek Fire and the Siouxon and Sunset Fires were burning. We'll leave out the satellite fire data for now, to see the map clearly.\n",
    "\n",
    "First we set the URL for the ESRI World Street Map tiles and then load the tiles (```map_background```) using **Cartopy's** interface: ```cimgt.GoogleTiles(url=esri_tiles)```. Then we set up a figure in Matplotlib and add ```geoaxes``` with a map projection using **Cartopy**; for best results, we set the **map projection** for the figure to be the same as that of the ESRI map background (which happens to be **Mercator**). \n",
    "\n",
    "We add the map_background using ```add_image```. The ```zoom_level``` variable is the resolution of ESRI map background tile; the higher the zoom level, the greater the map detail. You can change the zoom level to see how the map resolution changes.\n",
    "\n",
    "We we zoom into our region of interest along the Washington/Oregon border using ```set_extent([map_corners])``` where the ```map_corners``` are the ```[western_longitude, eastern_longitude, southern_latitude, northern_latitude]``` of the zoomed-in map in degrees (use negative values to indicate °S latitude or °W longitude). Specifying the Plate Carree map projection using the argument ```crs=ccrs.PlateCarree()``` tells **Cartopy** that the map_corners are entered in geographic coordinates (latitude and longitude)."
   ]
  },
  {
   "cell_type": "code",
   "execution_count": null,
   "id": "e2a1959e",
   "metadata": {
    "tags": []
   },
   "outputs": [],
   "source": [
    "esri_tiles = 'https://server.arcgisonline.com/ArcGIS/rest/services/World_Street_Map/MapServer/tile/{z}/{y}/{x}.jpg'\n",
    "map_background = cimgt.GoogleTiles(url=esri_tiles)\n",
    "\n",
    "fig = plt.figure(figsize=(10, 10))\n",
    "\n",
    "ax = plt.axes(projection=map_background.crs)\n",
    "\n",
    "zoom_level = 11\n",
    "ax.add_image(map_background, zoom_level)\n",
    "\n",
    "ax.set_extent([-122.75, -122.0, 45.5, 46.0], crs=ccrs.PlateCarree())\n",
    "\n",
    "plt.show()"
   ]
  },
  {
   "cell_type": "markdown",
   "id": "77b08c87",
   "metadata": {},
   "source": [
    "### Exercise Fire-1: CHANGE ZOOM LEVEL FOR IMAGE TILE MAP BACKGROUND\n",
    "\n",
    "In the code block below, fill in the missing ```zoom_level``` for the image tile map background, and generate the image. Try a few different zoom levels to see how they affect the details included on the map image."
   ]
  },
  {
   "cell_type": "code",
   "execution_count": null,
   "id": "0ea762b0",
   "metadata": {
    "tags": []
   },
   "outputs": [],
   "source": [
    "esri_tiles = 'https://server.arcgisonline.com/ArcGIS/rest/services/World_Street_Map/MapServer/tile/{z}/{y}/{x}.jpg'\n",
    "map_background = cimgt.GoogleTiles(url=esri_tiles)\n",
    "\n",
    "fig = plt.figure(figsize=(10, 10))\n",
    "\n",
    "ax = plt.axes(projection=map_background.crs)\n",
    "\n",
    "# SET ZOOM LEVEL\n",
    "zoom_level = 10\n",
    "ax.add_image(map_background, zoom_level)\n",
    "\n",
    "ax.set_extent([-122.75, -122.0, 45.5, 46.0], crs=ccrs.PlateCarree())\n",
    "\n",
    "plt.show()"
   ]
  },
  {
   "cell_type": "markdown",
   "id": "f233a0ff",
   "metadata": {},
   "source": [
    "## Topic 7: Adding Professional Touches to Images"
   ]
  },
  {
   "cell_type": "markdown",
   "id": "a052bc9d",
   "metadata": {},
   "source": [
    "### Step 7.1: Plot fire detections on a map background using Matplotlib & Cartopy\n",
    "\n",
    "Now that we know how to import a map background image, we can plot the satellite fire detections on top of the map image. \n",
    "\n",
    "We plot the fire data using **Matplotlib's** simple ```plot``` plotting function. Note **xarray** makes it easy to plot Data Arrays using ```xarray.DataArray```, e.g. ```ds_group.FP_longitude```, ```ds_group.FP_latitude```.\n",
    "\n",
    "We customize the appearance of the fire detection markers by making them small red filled squares with a thin black edge.\n",
    "\n",
    "The plotting function argument ```transform=ccrs.PlateCarree()``` tells **Cartopy** that the fire data are in geographic coordinates (lat/lon). This argument **must** be included when plotting satellite data that are in geographic coordinates, or the data will not plot correctly on the map projection.\n",
    "\n",
    "We also add an automatically generated plot title by extracting information from the data file name, including the date and observation time in UTC."
   ]
  },
  {
   "cell_type": "code",
   "execution_count": null,
   "id": "e69b0ef8",
   "metadata": {
    "tags": []
   },
   "outputs": [],
   "source": [
    "esri_tiles = 'https://server.arcgisonline.com/ArcGIS/rest/services/World_Street_Map/MapServer/tile/{z}/{y}/{x}.jpg'\n",
    "map_background = cimgt.GoogleTiles(url=esri_tiles)\n",
    "\n",
    "fig = plt.figure(figsize=(10, 10))\n",
    "\n",
    "ax = plt.axes(projection=map_background.crs)\n",
    "\n",
    "zoom_level = 11\n",
    "ax.add_image(map_background, zoom_level)\n",
    "\n",
    "ax.set_extent([-122.75, -122.0, 45.5, 46.0], crs=ccrs.PlateCarree())\n",
    "\n",
    "ax.plot(ds_group.FP_longitude, ds_group.FP_latitude, color='red', marker='s', linewidth=0, mec='k', mew=0.2, ms=3, \n",
    "        transform=ccrs.PlateCarree())\n",
    "\n",
    "date = datetime.datetime.strptime(file_id.name.split('_')[-3][1:9], '%Y%m%d').date()\n",
    "date = date.strftime('%d %b %Y')\n",
    "title = 'NOAA-20/VIIRS Active Fires I-band  ' + date + ' ' + file_id.name.split('_')[-3][9:11] + ':' + file_id.name.split('_')[-3][11:13] + ' UTC'\n",
    "plt.title(title, pad=10, size=8, weight='bold')\n",
    "\n",
    "plt.show()"
   ]
  },
  {
   "cell_type": "markdown",
   "id": "9b019a69",
   "metadata": {
    "tags": []
   },
   "source": [
    "### Exercise Fire-2: SET YOUR OWN MARKERS FOR FIRE DETECTIONS\n",
    "\n",
    "Use **Matplotlib** to set your own style and color for the fire markers. In the code block below, fill in the missing ```color=```, ```marker=```, ```mec=```, ```mew=```, and ```ms=``` arguments in the ```ax.plot``` command, and generate the image. Try a few different marker/edge color combinations.\n",
    "\n",
    "Note: Keep the ```linewidth=0``` or **Matplotlib** will draw a line to connect the fire markers. \n",
    "\n",
    "For more ```plot``` settings, see the [Matplotlib kwargs for plot appearance (Line2D)](https://matplotlib.org/stable/api/_as_gen/matplotlib.lines.Line2D.html#matplotlib.lines.Line2D).\n",
    "\n",
    "[List of Matplotlib markers](https://matplotlib.org/stable/api/markers_api.html#module-matplotlib.markers)\n",
    "\n",
    "[List of Matplotlib colors](https://matplotlib.org/stable/gallery/color/named_colors.html)"
   ]
  },
  {
   "cell_type": "code",
   "execution_count": null,
   "id": "1aeeaae1",
   "metadata": {},
   "outputs": [],
   "source": [
    "esri_tiles = 'https://server.arcgisonline.com/ArcGIS/rest/services/World_Street_Map/MapServer/tile/{z}/{y}/{x}.jpg'\n",
    "map_background = cimgt.GoogleTiles(url=esri_tiles)\n",
    "\n",
    "fig = plt.figure(figsize=(10, 10))\n",
    "\n",
    "ax = plt.axes(projection=map_background.crs)\n",
    "\n",
    "zoom_level = 11\n",
    "ax.add_image(map_background, zoom_level)\n",
    "\n",
    "ax.set_extent([-122.75, -122.0, 45.5, 46.0], crs=ccrs.PlateCarree())\n",
    "\n",
    "# SET FIRE MARKER KWARGS: \"color=\", \"marker=\", \"mec=\", \"mew=\", \"ms=\"\n",
    "ax.plot(ds_group.FP_longitude, ds_group.FP_latitude, color=\"red\", marker=\"^\", linewidth=0, mec=\"orange\", mew=\"1\", ms=\"2\", \n",
    "        transform=ccrs.PlateCarree())\n",
    "\n",
    "date = datetime.datetime.strptime(file_id.name.split('_')[-3][1:9], '%Y%m%d').date()\n",
    "date = date.strftime('%d %b %Y')\n",
    "title = 'NOAA-20/VIIRS Active Fires I-band  ' + date + ' ' + file_id.name.split('_')[-3][9:11] + ':' + file_id.name.split('_')[-3][11:13] + ' UTC'\n",
    "plt.title(title, pad=10, size=8, weight='bold')\n",
    "\n",
    "plt.show()"
   ]
  },
  {
   "cell_type": "markdown",
   "id": "452e198a",
   "metadata": {},
   "source": [
    "### Step 7.2: Save the map of fire detections as an image file using Matplotlib\n",
    "\n",
    "Now that we have created our map of fire detections, we need to save the image file so we can use the image in a research paper, presentation, website, or social media.\n",
    "\n",
    "We can save the map as an image file using **Matplotlib's** ```fig.savefig``` [function](https://matplotlib.org/stable/api/figure_api.html#matplotlib.figure.Figure.savefig).\n",
    "\n",
    "We can extract information from the satellite data file name to automatically generate a file name for the saved file, including the observation date and time.\n",
    "\n",
    "We can change the resolution of the saved image file using the ```dpi=``` argument in ```fig.savefig()```. The higher the dpi, the higher the figure resolution, but the larger the file size and the longer it will take to save the file. For figures that include an image map background, like this one, set a very high dpi, such as ```dpi=1000```, so the details of the map background will be clear. *Use a lower ```dpi``` value if you are running this Notebook in the **Binder** cloud platform, to avoid crashing.*\n",
    "\n",
    "We can also set the ```facecolor``` (background color) for the plot, and I like to set ```bbox_inches='tight'``` to minimize the bounding box around the figure (to zoom in \"tight\" on the plot).\n",
    "\n",
    "Note that we can also specify the format for the saved file (```saved_file_format```). The default is a .png file, but **Matplotlib** has many options. Try saving your image file with a different format, such as .jpg or .pdf, to see the differences.\n",
    "\n",
    "**Matplotlib** saved file format options: .eps, .jpeg, .jpg, .pdf, .pgf, .png, .ps, .raw, .rgba, .svg, .svgz, .tif, .tiff\n",
    "\n",
    "By default, the image file is saved to the \"current working directory\", where this Notebook file is located.\n",
    "\n",
    "**This is the final step! Comments are included in the code below, to notate each step in the process of generating a beautiful image of VIIRS Level 2 point satellite data.**"
   ]
  },
  {
   "cell_type": "code",
   "execution_count": null,
   "id": "0c08de8a",
   "metadata": {},
   "outputs": [],
   "source": [
    "# Get ESRI World Street Map tiles using Cartopy's web tile retrieval\n",
    "esri_tiles = 'https://server.arcgisonline.com/ArcGIS/rest/services/World_Street_Map/MapServer/tile/{z}/{y}/{x}.jpg'\n",
    "map_background = cimgt.GoogleTiles(url=esri_tiles)\n",
    "\n",
    "# Set up figure in Matplotlib\n",
    "fig = plt.figure(figsize=(10, 10))\n",
    "\n",
    "# Add axes to figure and set map projection to be same as ESRI World Street Map tiles (Mercator)\n",
    "ax = plt.axes(projection=map_background.crs)\n",
    "\n",
    "# Plot ESRI World Street Map as background at specified resolution\n",
    "zoom_level = 11\n",
    "ax.add_image(map_background, zoom_level)\n",
    "\n",
    "# Set extent of map to zoom-in to area of interest\n",
    "# Use negative values to indicate °W longitude, e.g., 100 °W = -100\n",
    "# Use negative values to indicate °S latitude, e.g., 30 °S = -30\n",
    "ax.set_extent([-122.75, -122.0, 45.5, 46.0], crs=ccrs.PlateCarree())\n",
    "\n",
    "# Plot fire detections using small filled red square markers with thin black border\n",
    "# \"transform=ccrs.PlateCarree()\" argument is required b/c data are in geographic coordinates\n",
    "ax.plot(ds_group.FP_longitude, ds_group.FP_latitude, color='red', marker='s', linewidth=0, mec='k', mew=0.2, ms=3, \n",
    "        transform=ccrs.PlateCarree())\n",
    "\n",
    "# Create plot title automatically using information from file name\n",
    "# Use datetime module to extract observation date & time and reformat\n",
    "date = datetime.datetime.strptime(file_id.name.split('_')[-3][1:9], '%Y%m%d').date()\n",
    "date = date.strftime('%d %b %Y')\n",
    "# Put extracted/reformated strings together to make image title\n",
    "title = 'NOAA-20/VIIRS Active Fires I-band  ' + date + ' ' + file_id.name.split('_')[-3][9:11] + ':' + file_id.name.split('_')[-3][11:13] + ' UTC'\n",
    "# Add plot title\n",
    "plt.title(title, pad=10, size=8, weight='bold')\n",
    "\n",
    "# Show plot\n",
    "plt.show()\n",
    "\n",
    "# Save figure\n",
    "# \"dpi\" is image resolution in dots per inch; use a high dpi (e.g., 1000) for figures w/map image background\n",
    "# \"bbox_inches=tight\" sets a \"tight\" bounding box around saved image\n",
    "# NOTE: If using binder, the dpi was reduced to 300 to save memory.\n",
    "saved_file_format = '.png'\n",
    "saved_file_name = 'viirs_af_i-band_' + file_id.name.split('_')[-3][1:9] + '_' + file_id.name.split('_')[-3][9:13] + saved_file_format\n",
    "fig.savefig(saved_file_name, facecolor='w', dpi=300, bbox_inches='tight')\n",
    "\n",
    "# Close plot\n",
    "plt.close()"
   ]
  },
  {
   "cell_type": "code",
   "execution_count": null,
   "id": "ce53d366",
   "metadata": {},
   "outputs": [],
   "source": []
  }
 ],
 "metadata": {
  "availableInstances": [
   {
    "_defaultOrder": 0,
    "_isFastLaunch": true,
    "category": "General purpose",
    "gpuNum": 0,
    "hideHardwareSpecs": false,
    "memoryGiB": 4,
    "name": "ml.t3.medium",
    "vcpuNum": 2
   },
   {
    "_defaultOrder": 1,
    "_isFastLaunch": false,
    "category": "General purpose",
    "gpuNum": 0,
    "hideHardwareSpecs": false,
    "memoryGiB": 8,
    "name": "ml.t3.large",
    "vcpuNum": 2
   },
   {
    "_defaultOrder": 2,
    "_isFastLaunch": false,
    "category": "General purpose",
    "gpuNum": 0,
    "hideHardwareSpecs": false,
    "memoryGiB": 16,
    "name": "ml.t3.xlarge",
    "vcpuNum": 4
   },
   {
    "_defaultOrder": 3,
    "_isFastLaunch": false,
    "category": "General purpose",
    "gpuNum": 0,
    "hideHardwareSpecs": false,
    "memoryGiB": 32,
    "name": "ml.t3.2xlarge",
    "vcpuNum": 8
   },
   {
    "_defaultOrder": 4,
    "_isFastLaunch": true,
    "category": "General purpose",
    "gpuNum": 0,
    "hideHardwareSpecs": false,
    "memoryGiB": 8,
    "name": "ml.m5.large",
    "vcpuNum": 2
   },
   {
    "_defaultOrder": 5,
    "_isFastLaunch": false,
    "category": "General purpose",
    "gpuNum": 0,
    "hideHardwareSpecs": false,
    "memoryGiB": 16,
    "name": "ml.m5.xlarge",
    "vcpuNum": 4
   },
   {
    "_defaultOrder": 6,
    "_isFastLaunch": false,
    "category": "General purpose",
    "gpuNum": 0,
    "hideHardwareSpecs": false,
    "memoryGiB": 32,
    "name": "ml.m5.2xlarge",
    "vcpuNum": 8
   },
   {
    "_defaultOrder": 7,
    "_isFastLaunch": false,
    "category": "General purpose",
    "gpuNum": 0,
    "hideHardwareSpecs": false,
    "memoryGiB": 64,
    "name": "ml.m5.4xlarge",
    "vcpuNum": 16
   },
   {
    "_defaultOrder": 8,
    "_isFastLaunch": false,
    "category": "General purpose",
    "gpuNum": 0,
    "hideHardwareSpecs": false,
    "memoryGiB": 128,
    "name": "ml.m5.8xlarge",
    "vcpuNum": 32
   },
   {
    "_defaultOrder": 9,
    "_isFastLaunch": false,
    "category": "General purpose",
    "gpuNum": 0,
    "hideHardwareSpecs": false,
    "memoryGiB": 192,
    "name": "ml.m5.12xlarge",
    "vcpuNum": 48
   },
   {
    "_defaultOrder": 10,
    "_isFastLaunch": false,
    "category": "General purpose",
    "gpuNum": 0,
    "hideHardwareSpecs": false,
    "memoryGiB": 256,
    "name": "ml.m5.16xlarge",
    "vcpuNum": 64
   },
   {
    "_defaultOrder": 11,
    "_isFastLaunch": false,
    "category": "General purpose",
    "gpuNum": 0,
    "hideHardwareSpecs": false,
    "memoryGiB": 384,
    "name": "ml.m5.24xlarge",
    "vcpuNum": 96
   },
   {
    "_defaultOrder": 12,
    "_isFastLaunch": false,
    "category": "General purpose",
    "gpuNum": 0,
    "hideHardwareSpecs": false,
    "memoryGiB": 8,
    "name": "ml.m5d.large",
    "vcpuNum": 2
   },
   {
    "_defaultOrder": 13,
    "_isFastLaunch": false,
    "category": "General purpose",
    "gpuNum": 0,
    "hideHardwareSpecs": false,
    "memoryGiB": 16,
    "name": "ml.m5d.xlarge",
    "vcpuNum": 4
   },
   {
    "_defaultOrder": 14,
    "_isFastLaunch": false,
    "category": "General purpose",
    "gpuNum": 0,
    "hideHardwareSpecs": false,
    "memoryGiB": 32,
    "name": "ml.m5d.2xlarge",
    "vcpuNum": 8
   },
   {
    "_defaultOrder": 15,
    "_isFastLaunch": false,
    "category": "General purpose",
    "gpuNum": 0,
    "hideHardwareSpecs": false,
    "memoryGiB": 64,
    "name": "ml.m5d.4xlarge",
    "vcpuNum": 16
   },
   {
    "_defaultOrder": 16,
    "_isFastLaunch": false,
    "category": "General purpose",
    "gpuNum": 0,
    "hideHardwareSpecs": false,
    "memoryGiB": 128,
    "name": "ml.m5d.8xlarge",
    "vcpuNum": 32
   },
   {
    "_defaultOrder": 17,
    "_isFastLaunch": false,
    "category": "General purpose",
    "gpuNum": 0,
    "hideHardwareSpecs": false,
    "memoryGiB": 192,
    "name": "ml.m5d.12xlarge",
    "vcpuNum": 48
   },
   {
    "_defaultOrder": 18,
    "_isFastLaunch": false,
    "category": "General purpose",
    "gpuNum": 0,
    "hideHardwareSpecs": false,
    "memoryGiB": 256,
    "name": "ml.m5d.16xlarge",
    "vcpuNum": 64
   },
   {
    "_defaultOrder": 19,
    "_isFastLaunch": false,
    "category": "General purpose",
    "gpuNum": 0,
    "hideHardwareSpecs": false,
    "memoryGiB": 384,
    "name": "ml.m5d.24xlarge",
    "vcpuNum": 96
   },
   {
    "_defaultOrder": 20,
    "_isFastLaunch": false,
    "category": "General purpose",
    "gpuNum": 0,
    "hideHardwareSpecs": true,
    "memoryGiB": 0,
    "name": "ml.geospatial.interactive",
    "supportedImageNames": [
     "sagemaker-geospatial-v1-0"
    ],
    "vcpuNum": 0
   },
   {
    "_defaultOrder": 21,
    "_isFastLaunch": true,
    "category": "Compute optimized",
    "gpuNum": 0,
    "hideHardwareSpecs": false,
    "memoryGiB": 4,
    "name": "ml.c5.large",
    "vcpuNum": 2
   },
   {
    "_defaultOrder": 22,
    "_isFastLaunch": false,
    "category": "Compute optimized",
    "gpuNum": 0,
    "hideHardwareSpecs": false,
    "memoryGiB": 8,
    "name": "ml.c5.xlarge",
    "vcpuNum": 4
   },
   {
    "_defaultOrder": 23,
    "_isFastLaunch": false,
    "category": "Compute optimized",
    "gpuNum": 0,
    "hideHardwareSpecs": false,
    "memoryGiB": 16,
    "name": "ml.c5.2xlarge",
    "vcpuNum": 8
   },
   {
    "_defaultOrder": 24,
    "_isFastLaunch": false,
    "category": "Compute optimized",
    "gpuNum": 0,
    "hideHardwareSpecs": false,
    "memoryGiB": 32,
    "name": "ml.c5.4xlarge",
    "vcpuNum": 16
   },
   {
    "_defaultOrder": 25,
    "_isFastLaunch": false,
    "category": "Compute optimized",
    "gpuNum": 0,
    "hideHardwareSpecs": false,
    "memoryGiB": 72,
    "name": "ml.c5.9xlarge",
    "vcpuNum": 36
   },
   {
    "_defaultOrder": 26,
    "_isFastLaunch": false,
    "category": "Compute optimized",
    "gpuNum": 0,
    "hideHardwareSpecs": false,
    "memoryGiB": 96,
    "name": "ml.c5.12xlarge",
    "vcpuNum": 48
   },
   {
    "_defaultOrder": 27,
    "_isFastLaunch": false,
    "category": "Compute optimized",
    "gpuNum": 0,
    "hideHardwareSpecs": false,
    "memoryGiB": 144,
    "name": "ml.c5.18xlarge",
    "vcpuNum": 72
   },
   {
    "_defaultOrder": 28,
    "_isFastLaunch": false,
    "category": "Compute optimized",
    "gpuNum": 0,
    "hideHardwareSpecs": false,
    "memoryGiB": 192,
    "name": "ml.c5.24xlarge",
    "vcpuNum": 96
   },
   {
    "_defaultOrder": 29,
    "_isFastLaunch": true,
    "category": "Accelerated computing",
    "gpuNum": 1,
    "hideHardwareSpecs": false,
    "memoryGiB": 16,
    "name": "ml.g4dn.xlarge",
    "vcpuNum": 4
   },
   {
    "_defaultOrder": 30,
    "_isFastLaunch": false,
    "category": "Accelerated computing",
    "gpuNum": 1,
    "hideHardwareSpecs": false,
    "memoryGiB": 32,
    "name": "ml.g4dn.2xlarge",
    "vcpuNum": 8
   },
   {
    "_defaultOrder": 31,
    "_isFastLaunch": false,
    "category": "Accelerated computing",
    "gpuNum": 1,
    "hideHardwareSpecs": false,
    "memoryGiB": 64,
    "name": "ml.g4dn.4xlarge",
    "vcpuNum": 16
   },
   {
    "_defaultOrder": 32,
    "_isFastLaunch": false,
    "category": "Accelerated computing",
    "gpuNum": 1,
    "hideHardwareSpecs": false,
    "memoryGiB": 128,
    "name": "ml.g4dn.8xlarge",
    "vcpuNum": 32
   },
   {
    "_defaultOrder": 33,
    "_isFastLaunch": false,
    "category": "Accelerated computing",
    "gpuNum": 4,
    "hideHardwareSpecs": false,
    "memoryGiB": 192,
    "name": "ml.g4dn.12xlarge",
    "vcpuNum": 48
   },
   {
    "_defaultOrder": 34,
    "_isFastLaunch": false,
    "category": "Accelerated computing",
    "gpuNum": 1,
    "hideHardwareSpecs": false,
    "memoryGiB": 256,
    "name": "ml.g4dn.16xlarge",
    "vcpuNum": 64
   },
   {
    "_defaultOrder": 35,
    "_isFastLaunch": false,
    "category": "Accelerated computing",
    "gpuNum": 1,
    "hideHardwareSpecs": false,
    "memoryGiB": 61,
    "name": "ml.p3.2xlarge",
    "vcpuNum": 8
   },
   {
    "_defaultOrder": 36,
    "_isFastLaunch": false,
    "category": "Accelerated computing",
    "gpuNum": 4,
    "hideHardwareSpecs": false,
    "memoryGiB": 244,
    "name": "ml.p3.8xlarge",
    "vcpuNum": 32
   },
   {
    "_defaultOrder": 37,
    "_isFastLaunch": false,
    "category": "Accelerated computing",
    "gpuNum": 8,
    "hideHardwareSpecs": false,
    "memoryGiB": 488,
    "name": "ml.p3.16xlarge",
    "vcpuNum": 64
   },
   {
    "_defaultOrder": 38,
    "_isFastLaunch": false,
    "category": "Accelerated computing",
    "gpuNum": 8,
    "hideHardwareSpecs": false,
    "memoryGiB": 768,
    "name": "ml.p3dn.24xlarge",
    "vcpuNum": 96
   },
   {
    "_defaultOrder": 39,
    "_isFastLaunch": false,
    "category": "Memory Optimized",
    "gpuNum": 0,
    "hideHardwareSpecs": false,
    "memoryGiB": 16,
    "name": "ml.r5.large",
    "vcpuNum": 2
   },
   {
    "_defaultOrder": 40,
    "_isFastLaunch": false,
    "category": "Memory Optimized",
    "gpuNum": 0,
    "hideHardwareSpecs": false,
    "memoryGiB": 32,
    "name": "ml.r5.xlarge",
    "vcpuNum": 4
   },
   {
    "_defaultOrder": 41,
    "_isFastLaunch": false,
    "category": "Memory Optimized",
    "gpuNum": 0,
    "hideHardwareSpecs": false,
    "memoryGiB": 64,
    "name": "ml.r5.2xlarge",
    "vcpuNum": 8
   },
   {
    "_defaultOrder": 42,
    "_isFastLaunch": false,
    "category": "Memory Optimized",
    "gpuNum": 0,
    "hideHardwareSpecs": false,
    "memoryGiB": 128,
    "name": "ml.r5.4xlarge",
    "vcpuNum": 16
   },
   {
    "_defaultOrder": 43,
    "_isFastLaunch": false,
    "category": "Memory Optimized",
    "gpuNum": 0,
    "hideHardwareSpecs": false,
    "memoryGiB": 256,
    "name": "ml.r5.8xlarge",
    "vcpuNum": 32
   },
   {
    "_defaultOrder": 44,
    "_isFastLaunch": false,
    "category": "Memory Optimized",
    "gpuNum": 0,
    "hideHardwareSpecs": false,
    "memoryGiB": 384,
    "name": "ml.r5.12xlarge",
    "vcpuNum": 48
   },
   {
    "_defaultOrder": 45,
    "_isFastLaunch": false,
    "category": "Memory Optimized",
    "gpuNum": 0,
    "hideHardwareSpecs": false,
    "memoryGiB": 512,
    "name": "ml.r5.16xlarge",
    "vcpuNum": 64
   },
   {
    "_defaultOrder": 46,
    "_isFastLaunch": false,
    "category": "Memory Optimized",
    "gpuNum": 0,
    "hideHardwareSpecs": false,
    "memoryGiB": 768,
    "name": "ml.r5.24xlarge",
    "vcpuNum": 96
   },
   {
    "_defaultOrder": 47,
    "_isFastLaunch": false,
    "category": "Accelerated computing",
    "gpuNum": 1,
    "hideHardwareSpecs": false,
    "memoryGiB": 16,
    "name": "ml.g5.xlarge",
    "vcpuNum": 4
   },
   {
    "_defaultOrder": 48,
    "_isFastLaunch": false,
    "category": "Accelerated computing",
    "gpuNum": 1,
    "hideHardwareSpecs": false,
    "memoryGiB": 32,
    "name": "ml.g5.2xlarge",
    "vcpuNum": 8
   },
   {
    "_defaultOrder": 49,
    "_isFastLaunch": false,
    "category": "Accelerated computing",
    "gpuNum": 1,
    "hideHardwareSpecs": false,
    "memoryGiB": 64,
    "name": "ml.g5.4xlarge",
    "vcpuNum": 16
   },
   {
    "_defaultOrder": 50,
    "_isFastLaunch": false,
    "category": "Accelerated computing",
    "gpuNum": 1,
    "hideHardwareSpecs": false,
    "memoryGiB": 128,
    "name": "ml.g5.8xlarge",
    "vcpuNum": 32
   },
   {
    "_defaultOrder": 51,
    "_isFastLaunch": false,
    "category": "Accelerated computing",
    "gpuNum": 1,
    "hideHardwareSpecs": false,
    "memoryGiB": 256,
    "name": "ml.g5.16xlarge",
    "vcpuNum": 64
   },
   {
    "_defaultOrder": 52,
    "_isFastLaunch": false,
    "category": "Accelerated computing",
    "gpuNum": 4,
    "hideHardwareSpecs": false,
    "memoryGiB": 192,
    "name": "ml.g5.12xlarge",
    "vcpuNum": 48
   },
   {
    "_defaultOrder": 53,
    "_isFastLaunch": false,
    "category": "Accelerated computing",
    "gpuNum": 4,
    "hideHardwareSpecs": false,
    "memoryGiB": 384,
    "name": "ml.g5.24xlarge",
    "vcpuNum": 96
   },
   {
    "_defaultOrder": 54,
    "_isFastLaunch": false,
    "category": "Accelerated computing",
    "gpuNum": 8,
    "hideHardwareSpecs": false,
    "memoryGiB": 768,
    "name": "ml.g5.48xlarge",
    "vcpuNum": 192
   },
   {
    "_defaultOrder": 55,
    "_isFastLaunch": false,
    "category": "Accelerated computing",
    "gpuNum": 8,
    "hideHardwareSpecs": false,
    "memoryGiB": 1152,
    "name": "ml.p4d.24xlarge",
    "vcpuNum": 96
   },
   {
    "_defaultOrder": 56,
    "_isFastLaunch": false,
    "category": "Accelerated computing",
    "gpuNum": 8,
    "hideHardwareSpecs": false,
    "memoryGiB": 1152,
    "name": "ml.p4de.24xlarge",
    "vcpuNum": 96
   },
   {
    "_defaultOrder": 57,
    "_isFastLaunch": false,
    "category": "Accelerated computing",
    "gpuNum": 0,
    "hideHardwareSpecs": false,
    "memoryGiB": 32,
    "name": "ml.trn1.2xlarge",
    "vcpuNum": 8
   },
   {
    "_defaultOrder": 58,
    "_isFastLaunch": false,
    "category": "Accelerated computing",
    "gpuNum": 0,
    "hideHardwareSpecs": false,
    "memoryGiB": 512,
    "name": "ml.trn1.32xlarge",
    "vcpuNum": 128
   },
   {
    "_defaultOrder": 59,
    "_isFastLaunch": false,
    "category": "Accelerated computing",
    "gpuNum": 0,
    "hideHardwareSpecs": false,
    "memoryGiB": 512,
    "name": "ml.trn1n.32xlarge",
    "vcpuNum": 128
   }
  ],
  "instance_type": "ml.geospatial.interactive",
  "kernelspec": {
   "display_name": "Python 3 (Geospatial 1.0)",
   "language": "python",
   "name": "python3__SAGEMAKER_INTERNAL__arn:aws:sagemaker:us-west-2:081189585635:image/sagemaker-geospatial-v1-0"
  },
  "language_info": {
   "codemirror_mode": {
    "name": "ipython",
    "version": 3
   },
   "file_extension": ".py",
   "mimetype": "text/x-python",
   "name": "python",
   "nbconvert_exporter": "python",
   "pygments_lexer": "ipython3",
   "version": "3.10.4"
  },
  "varInspector": {
   "cols": {
    "lenName": 16,
    "lenType": 16,
    "lenVar": 40
   },
   "kernels_config": {
    "python": {
     "delete_cmd_postfix": "",
     "delete_cmd_prefix": "del ",
     "library": "var_list.py",
     "varRefreshCmd": "print(var_dic_list())"
    },
    "r": {
     "delete_cmd_postfix": ") ",
     "delete_cmd_prefix": "rm(",
     "library": "var_list.r",
     "varRefreshCmd": "cat(var_dic_list()) "
    }
   },
   "types_to_exclude": [
    "module",
    "function",
    "builtin_function_or_method",
    "instance",
    "_Feature"
   ],
   "window_display": false
  },
  "vscode": {
   "interpreter": {
    "hash": "4589143d4cda0c8671911bd60c16dc1d10ec327722e7574bc882b745b51509b4"
   }
  }
 },
 "nbformat": 4,
 "nbformat_minor": 5
}
